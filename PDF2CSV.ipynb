{
 "cells": [
  {
   "cell_type": "markdown",
   "metadata": {},
   "source": [
    "# Mass Gov Grants Project"
   ]
  },
  {
   "cell_type": "markdown",
   "metadata": {},
   "source": [
    "DATA 297 RA\n",
    "\n",
    "Zhou Zhou"
   ]
  },
  {
   "cell_type": "markdown",
   "metadata": {},
   "source": [
    "## Summary"
   ]
  },
  {
   "cell_type": "markdown",
   "metadata": {},
   "source": [
    "In this notebook, we will experiment with multiple methods to extract grants information, particularly those relased in tabular format, from pdfs and websites. We will start with grants information that can be extracted using open-source library first, and then advancing to **Adobe's proprietary API** when open-source library fails. We will also use **RPA** to programatically download the dataset from goverment website with built-in GIS tools and export function for the best result.\n",
    "\n",
    "| Grants | Method |\n",
    "| ------ | ------ |\n",
    "|Competitive Green Communities|RPA|\n",
    "|Buzzards Bay|RPA|\n",
    "|Coastal Zone Management|RPA|\n",
    "|Custainable Materials Recovery Program|Adobe API|\n",
    "|Reduce, Reuse, Repair Micro Grant|Adobe API|\n",
    "|Recycling & Reuse Business Development Grant|Adobe API|\n",
    "|Commerical Refrigeration Grants|Mannual Input|\n",
    "|Forestry Grants|Mannual Input|\n",
    "\n",
    "While this notebook exported the converted information as `.csv` for collaboration purpose, it is **not** advised to do so since it may create unwanted **mojibake** in the output csv files."
   ]
  },
  {
   "cell_type": "markdown",
   "metadata": {},
   "source": [
    "## Prerequsite Package"
   ]
  },
  {
   "cell_type": "code",
   "execution_count": null,
   "metadata": {},
   "outputs": [],
   "source": [
    "### Need for sure\n",
    "# !pip install rpa\n",
    "# !pip install bs4\n",
    "# !pip install PyPDF2\n",
    "# !pip install tabula\n",
    "# !pip install tabula-py[jpype]\n",
    "# !pip install openpyxl\n",
    "# !pip install pyxlsb\n",
    "# !pip install pdfservices-sdk\n",
    "# !pip install selenium"
   ]
  },
  {
   "cell_type": "code",
   "execution_count": 2,
   "metadata": {},
   "outputs": [],
   "source": [
    "import os\n",
    "import requests\n",
    "import pandas as pd\n",
    "from bs4 import BeautifulSoup\n",
    "import PyPDF2\n",
    "import tabula\n",
    "import rpa as r\n",
    "import time\n",
    "import datetime\n",
    "import re"
   ]
  },
  {
   "cell_type": "markdown",
   "metadata": {},
   "source": [
    "## Open-sourced Package"
   ]
  },
  {
   "cell_type": "markdown",
   "metadata": {},
   "source": [
    "This section will use `BeautifulSoup` and `tabula-py` to download pdfs from a select grant website, and then extract tabular information from pdfs and convert them into dataframe."
   ]
  },
  {
   "cell_type": "markdown",
   "metadata": {},
   "source": [
    "### Competitive Green Communities"
   ]
  },
  {
   "cell_type": "markdown",
   "metadata": {},
   "source": [
    "#### Download the files"
   ]
  },
  {
   "cell_type": "code",
   "execution_count": null,
   "metadata": {},
   "outputs": [],
   "source": [
    "import os\n",
    "import requests\n",
    "from bs4 import BeautifulSoup\n",
    "\n",
    "# Function to extract URLs containing the keyword\n",
    "def extract_files_urls(page_url, keyword):\n",
    "    # Send a GET request to the webpage\n",
    "    response = requests.get(page_url)\n",
    "    soup = BeautifulSoup(response.content, 'html.parser')\n",
    "    \n",
    "    # Find all links in the page\n",
    "    links = soup.find_all('a', href=True)\n",
    "    \n",
    "    # Loop through each link and check if the link text contains the keyword\n",
    "    files_links = []\n",
    "    for link in links:\n",
    "        if keyword.lower() in link.text.lower():  # Check if keyword is in the link text\n",
    "            full_url = link['href']\n",
    "            files_names = link\n",
    "            if not full_url.startswith('http'):\n",
    "                # If it's a relative link, make it absolute\n",
    "                full_url = requests.compat.urljoin(page_url, full_url)\n",
    "            files_links.append((link.text.strip(), full_url))\n",
    "    \n",
    "    return files_links\n",
    "\n",
    "# Function to download files based on keyword and save in folder\n",
    "def download_award_files(base_url, keyword, folder_name='.', file_format='pdf', file_name_loc=-2):\n",
    "    \n",
    "    # Create the folder if it doesn't exist\n",
    "    if not os.path.exists(folder_name):\n",
    "        os.makedirs(folder_name)\n",
    "    \n",
    "    # Extract links that match the keyword\n",
    "    filtered_links = extract_files_urls(base_url, keyword)\n",
    "    \n",
    "    # Download each file\n",
    "    for link_text, link_url in filtered_links:  # Unpack the tuple\n",
    "        # Construct the full URL\n",
    "        if not link_url.startswith('http'):\n",
    "            link_url = requests.compat.urljoin(base_url, link_url)\n",
    "        # Extract the file name from the URL\n",
    "        file_name = link_url.split('/')[-2] + file_format\n",
    "        \n",
    "        # Set the file path where it will be saved\n",
    "        file_path = os.path.join(folder_name, file_name)\n",
    "        \n",
    "        # Download the file\n",
    "        file_response = requests.get(link_url)\n",
    "        if file_response.status_code == 200:\n",
    "            with open(file_path, 'wb') as file:\n",
    "                file.write(file_response.content)\n",
    "            print(f\"Downloaded: {file_name}\")\n",
    "        else:\n",
    "            print(f\"Failed to download {file_name}. Status code: {file_response.status_code}\")\n",
    "\n",
    "cgc_url = 'https://www.mass.gov/lists/maps-reports-and-publications#maps-and-summaries-'\n",
    "cgc_keyword = 'award'\n",
    "cgc_folder_name = 'Competitive_green_communities_grant'\n",
    "cgc_file_format = '.pdf'\n",
    "\n",
    "download_award_files(cgc_url, cgc_keyword, cgc_folder_name, cgc_file_format)\n"
   ]
  },
  {
   "cell_type": "markdown",
   "metadata": {},
   "source": [
    "`2164596.pdf` and `2047756.pdf` doesnt follow the naming convention, so we mannually rename them."
   ]
  },
  {
   "cell_type": "code",
   "execution_count": 4,
   "metadata": {},
   "outputs": [],
   "source": [
    "os.rename('Competitive_green_communities_grant/2164596.pdf', 'Competitive_green_communities_grant/table-of-2020-competitive-grant-awards-0.pdf')\n",
    "os.rename('Competitive_green_communities_grant/2047756.pdf','Competitive_green_communities_grant/table-of-2019-competitive-grant-awards-0.pdf')"
   ]
  },
  {
   "cell_type": "markdown",
   "metadata": {},
   "source": [
    "#### Convert to CSV/ dataframe"
   ]
  },
  {
   "cell_type": "markdown",
   "metadata": {},
   "source": [
    "For demonstartion purpose, we will use open-source package `tabula` for converting PDF to CSV below. But for more constant result, Adobe's  [PDF Service API](https://developer.adobe.com/document-services/docs/overview/pdf-extract-api/howtos/extract-api/) is recommended."
   ]
  },
  {
   "cell_type": "code",
   "execution_count": null,
   "metadata": {},
   "outputs": [
    {
     "name": "stdout",
     "output_type": "stream",
     "text": [
      "[   Municipality Grant\\rAward   Region  \\\n",
      "0         Adams     $161,373     West   \n",
      "1    Ashburnham      $20,000  Central   \n",
      "2         Ashby      $10,413  Central   \n",
      "3         Athol     $111,514     West   \n",
      "4     Attleboro     $186,629    South   \n",
      "5   Bernardston      $13,805     West   \n",
      "6     Billerica     $181,037    North   \n",
      "7    Blackstone     $199,421  Central   \n",
      "8     Brookline      $22,500    North   \n",
      "9      Buckland       $5,000     West   \n",
      "10   Chelmsford      $17,782    North   \n",
      "11     Cohasset     $188,600    South   \n",
      "12      Concord     $100,000    North   \n",
      "13      Douglas     $104,947  Central   \n",
      "14       Dudley     $200,000  Central   \n",
      "15  Easthampton      $15,000     West   \n",
      "16     Franklin     $150,902  Central   \n",
      "17   Georgetown     $199,999    North   \n",
      "18   Gloucester      $92,807    North   \n",
      "19       Groton      $99,393  Central   \n",
      "20      Hanover     $100,000    South   \n",
      "21      Harwich     $160,952    South   \n",
      "22      Hingham     $185,475    South   \n",
      "23    Hopkinton      $91,189  Central   \n",
      "\n",
      "                       Description of Projects Funded  \n",
      "0   to fund energy conservation measures, LED ligh...  \n",
      "1   to fund energy conservation measures, hybrid p...  \n",
      "2   to fund energy conservation measures, programm...  \n",
      "3   to fund energy conservation measures, LED ligh...  \n",
      "4   to fund energy conservation measures, weatheri...  \n",
      "5   to fund energy conservation measures, air sour...  \n",
      "6   to fund energy conservation measures, LED ligh...  \n",
      "7   to fund energy conservation measures, LED ligh...  \n",
      "8   to fund energy conservation measures, EV charg...  \n",
      "9   to fund energy conservation measures, hybrid p...  \n",
      "10  to fund energy conservation measures, steam tr...  \n",
      "11  to fund energy conservation measures, energy m...  \n",
      "12  to fund energy conservation measures, air sour...  \n",
      "13  to fund energy conservation measures, LED ligh...  \n",
      "14  to fund energy conservation measures, energy m...  \n",
      "15  to fund energy conservation measures, EV vehic...  \n",
      "16  to fund energy conservation measures, EV vehic...  \n",
      "17  to fund energy conservation measures, weatheri...  \n",
      "18  to fund energy conservation measures, energy m...  \n",
      "19  to fund energy conservation measures, LED ligh...  \n",
      "20  to fund energy conservation measures, weatheri...  \n",
      "21  to fund energy conservation measures, HVAC upg...  \n",
      "22  to fund energy conservation measures, LED ligh...  \n",
      "23  to fund energy conservation measures, weatheri...  ,            Municipality Grant\\rAward   Region  \\\n",
      "0               Ipswich     $200,000    North   \n",
      "1              Lawrence     $199,996    North   \n",
      "2            Longmeadow      $60,819     West   \n",
      "3                Marion     $102,000    South   \n",
      "4           Marlborough     $118,940  Central   \n",
      "5              Medfield     $179,884  Central   \n",
      "6               Medford     $100,000    North   \n",
      "7                Medway      $99,094  Central   \n",
      "8         Middleborough      $98,527    South   \n",
      "9             Nantucket     $160,988    South   \n",
      "10               Natick     $500,000    North   \n",
      "11              Norfolk     $145,701  Central   \n",
      "12          North Adams     $189,915     West   \n",
      "13  North\\rAttleborough     $178,793    South   \n",
      "14              Norwell      $54,413    South   \n",
      "15              Norwood     $182,290    South   \n",
      "16               Palmer     $200,000     West   \n",
      "17           Plainville      $95,190    South   \n",
      "18               Revere     $192,589    North   \n",
      "19               Saugus     $118,844    North   \n",
      "20               Sharon     $128,868    South   \n",
      "\n",
      "                       Description of Projects Funded  \n",
      "0   to fund energy conservation measures, hot wate...  \n",
      "1   to fund energy conservation measures, pneumati...  \n",
      "2   to fund energy conservation measures, LED ligh...  \n",
      "3   to fund energy conservation measures, air sour...  \n",
      "4   to fund energy conservation measures, energy m...  \n",
      "5   to fund energy conservation measures, lighting...  \n",
      "6   to fund energy conservation measures, retro-co...  \n",
      "7   to fund energy conservation measures, kitchen ...  \n",
      "8   to fund energy conservation measures, LED ligh...  \n",
      "9   to fund energy conservation measures, PTAC uni...  \n",
      "10  to fund energy conservation measures, heating ...  \n",
      "11  to fund energy conservation measures, energy m...  \n",
      "12  to fund energy conservation measures, weatheri...  \n",
      "13  to fund energy conservation measures, LED ligh...  \n",
      "14  to fund energy conservation measures, variable...  \n",
      "15  to fund energy conservation measures, weatheri...  \n",
      "16  to fund energy conservation measures, air sour...  \n",
      "17  to fund energy conservation measures, weatheri...  \n",
      "18  to fund energy conservation measures, weatheri...  \n",
      "19  to fund energy conservation measures, variable...  \n",
      "20  to fund energy conservation measures, EV and h...  ,         Municipality Grant\\rAward   Region  \\\n",
      "0         Shrewsbury     $146,604  Central   \n",
      "1         Somerville      $84,802    North   \n",
      "2        Stockbridge      $62,569     West   \n",
      "3          Stoughton     $199,426    South   \n",
      "4       Tyngsborough      $91,033    North   \n",
      "5           Uxbridge     $177,827  Central   \n",
      "6            Waltham     $185,447    North   \n",
      "7            Warwick     $136,103     West   \n",
      "8          Wellesley     $200,000    North   \n",
      "9        Westborough     $200,000  Central   \n",
      "10     West Boylston      $99,046  Central   \n",
      "11          Westford      $34,680    North   \n",
      "12       Westminster     $178,273  Central   \n",
      "13      West Newbury       $5,000    North   \n",
      "14          Westport     $200,000    South   \n",
      "15  West Springfield      $37,399     West   \n",
      "16          Weymouth     $100,000    South   \n",
      "17         Wilbraham     $170,434     West   \n",
      "18            Woburn     $100,000    North   \n",
      "\n",
      "                       Description of Projects Funded  \n",
      "0   to fund energy conservation measures, hybrid e...  \n",
      "1   to fund energy conservation measures, electric...  \n",
      "2   to fund energy conservation measures, LED stre...  \n",
      "3   to fund energy conservation measures, roof ins...  \n",
      "4   to fund energy conservation measures, LED ligh...  \n",
      "5   to fund energy conservation measures, unit ven...  \n",
      "6   to fund energy conservation measures, LED ligh...  \n",
      "7   to fund energy conservation measures, air sour...  \n",
      "8   to fund energy conservation measures, hybrid p...  \n",
      "9   to fund energy conservation measures, LED ligh...  \n",
      "10  to fund energy conservation measures, LED ligh...  \n",
      "11  to fund energy conservation measures, LED ligh...  \n",
      "12  to fund energy conservation measures, LED ligh...  \n",
      "13  to fund energy conservation measures, hybrid p...  \n",
      "14  to fund energy conservation measures, LED ligh...  \n",
      "15  to fund energy conservation measures, LED ligh...  \n",
      "16  to fund energy conservation measures, LED ligh...  \n",
      "17  to fund energy conservation measures, LED ligh...  \n",
      "18  to fund energy conservation measures, LED ligh...  ]\n"
     ]
    },
    {
     "ename": "NameError",
     "evalue": "name 'extract_year_from_filename' is not defined",
     "output_type": "error",
     "traceback": [
      "\u001b[1;31m---------------------------------------------------------------------------\u001b[0m",
      "\u001b[1;31mNameError\u001b[0m                                 Traceback (most recent call last)",
      "Cell \u001b[1;32mIn[4], line 47\u001b[0m\n\u001b[0;32m     44\u001b[0m df\u001b[38;5;241m.\u001b[39mcolumns \u001b[38;5;241m=\u001b[39m clean_column_names(df\u001b[38;5;241m.\u001b[39mcolumns)\n\u001b[0;32m     46\u001b[0m \u001b[38;5;66;03m# Extract year from filename and add it as a column\u001b[39;00m\n\u001b[1;32m---> 47\u001b[0m year \u001b[38;5;241m=\u001b[39m extract_year_from_filename(filename)\n\u001b[0;32m     48\u001b[0m df[\u001b[38;5;124m'\u001b[39m\u001b[38;5;124myear\u001b[39m\u001b[38;5;124m'\u001b[39m] \u001b[38;5;241m=\u001b[39m year\n\u001b[0;32m     50\u001b[0m \u001b[38;5;66;03m# Ensure all DataFrames have the same standard columns, filling missing ones with None\u001b[39;00m\n",
      "\u001b[1;31mNameError\u001b[0m: name 'extract_year_from_filename' is not defined"
     ]
    }
   ],
   "source": [
    "import tabula.io\n",
    "import os\n",
    "import pandas as pd\n",
    "import re\n",
    "\n",
    "# Define the directory where the PDFs are located\n",
    "directory = 'Competitive_green_communities_grant'  # Replace with your actual directory if needed\n",
    "\n",
    "# List to store all combined DataFrames\n",
    "combined_data = []\n",
    "\n",
    "# Function to extract the year from the folder\n",
    "def extract_year_from_folder(filename):\n",
    "    match = re.search(r'\\d{4}', filename)\n",
    "    if match:\n",
    "        return match.group(0)\n",
    "    else:\n",
    "        return None\n",
    "\n",
    "# Function to clean up column names\n",
    "def clean_column_names(columns):\n",
    "    # Replace spaces, newlines, and carriage returns with underscores\n",
    "    return [col.lower().replace(' ', '_').replace('\\r', '_').replace('\\n', '_') for col in columns]\n",
    "\n",
    "# Standard column names that we expect to appear in the DataFrames\n",
    "standard_columns = ['municipality', 'grant_award', 'region', 'description_of_projects_funded', 'year']\n",
    "\n",
    "# Loop through all PDF files in the directory\n",
    "for filename in os.listdir(directory):\n",
    "    if filename.endswith('.pdf') and '2019' not in filename:\n",
    "        file_path = os.path.join(directory, filename)\n",
    "        \n",
    "        # Read PDF into a DataFrame using tabula, handling all pages and lattice if needed\n",
    "        df_list = tabula.io.read_pdf(file_path, pages='all', lattice=True)\n",
    "        print(df_list)\n",
    "        \n",
    "        # If read_pdf returns a list of DataFrames (as it often does), combine them\n",
    "        if isinstance(df_list, list) and len(df_list) > 0:\n",
    "            df = pd.concat(df_list, ignore_index=True)\n",
    "        else:\n",
    "            df = df_list\n",
    "        \n",
    "        # Clean up column names\n",
    "        df.columns = clean_column_names(df.columns)\n",
    "        \n",
    "        # Extract year from filename and add it as a column\n",
    "        year = extract_year_from_folder(filename)\n",
    "        df['year'] = year\n",
    "        \n",
    "        # Ensure all DataFrames have the same standard columns, filling missing ones with None\n",
    "        for col in standard_columns:\n",
    "            if col not in df.columns:\n",
    "                df[col] = None\n",
    "        \n",
    "        # Reorder columns to match the standard\n",
    "        df = df[standard_columns]\n",
    "        \n",
    "        # Append the cleaned DataFrame to the combined_data list\n",
    "        combined_data.append(df)\n",
    "        print(f\"Processed {filename}, Year: {year}\")\n",
    "\n",
    "# Combine all DataFrames into one large DataFrame\n",
    "combined_df = pd.concat(combined_data, ignore_index=True)\n",
    "\n",
    "# Output the combined data for verification\n",
    "print(combined_df.head())\n",
    "\n",
    "# Optionally, save the combined DataFrame to a CSV\n",
    "output_csv = 'cgc_combined_data.csv'\n",
    "combined_df.to_csv(output_csv, index=False)\n",
    "print(f\"Combined data saved to {output_csv}\")"
   ]
  },
  {
   "cell_type": "markdown",
   "metadata": {},
   "source": [
    "`table-of-2019-competitive-grant-awards-0.pdf` and `competitive-grant-awards-2023-block-2.pdf` has error in conversion, so we will mannual adjust them"
   ]
  },
  {
   "cell_type": "markdown",
   "metadata": {},
   "source": [
    "I manually import the 2019 table here because the open-source library I tried generated weird formatting.  But this issue can be solved using [Adobe PDF Extract API](https://developer.adobe.com/document-services/docs/overview/pdf-extract-api/), as demonstrated later."
   ]
  },
  {
   "cell_type": "code",
   "execution_count": null,
   "metadata": {},
   "outputs": [],
   "source": [
    "cgc_2019_df = pd.read_excel('table-of-2019-competitive-grant-awards-0.xlsx', header=None) # Converted using Adobe API\n",
    "col_headers = ['municipality', 'grant_award', 'region', 'description_of_projects_funded']\n",
    "cgc_2019_df.columns = col_headers\n",
    "cgc_2019_df['year'] = 2019\n",
    "cgc_2019_df.head(5)"
   ]
  },
  {
   "cell_type": "markdown",
   "metadata": {},
   "source": [
    "Swap some miss placing data, and merge 2019 and the rest of dataframe."
   ]
  },
  {
   "cell_type": "code",
   "execution_count": null,
   "metadata": {},
   "outputs": [],
   "source": [
    "# Swap the values of 'municipality' and 'grant_award' if 'municipality' starts with '$' or 'grant_award' is a number\n",
    "def swap_values(row):\n",
    "    if row['municipality'].startswith('$') or row['grant_award'].replace(',', '').isdigit():\n",
    "        row['municipality'], row['grant_award'] = row['grant_award'], row['municipality']\n",
    "    return row\n",
    "combined_df = combined_df.apply(swap_values, axis=1)\n",
    "\n",
    "# Merge cgc_2019_df and combined_df\n",
    "cgc_df = pd.concat([combined_df, cgc_2019_df.iloc[1:]], ignore_index=True)\n",
    "cgc_df.head(5)"
   ]
  },
  {
   "cell_type": "code",
   "execution_count": null,
   "metadata": {},
   "outputs": [],
   "source": [
    "# Output the new DataFrame to a CSV file\n",
    "output_csv = 'competitive_green_community_grant.csv'\n",
    "cgc_df.to_csv(output_csv, index=False)\n",
    "\n",
    "print(f\"Combined data saved to {output_csv}\")"
   ]
  },
  {
   "cell_type": "markdown",
   "metadata": {},
   "source": [
    "###  Buzzards Bay\n",
    "\n",
    "Buzzards Bay National Estuary Program proivdes a spreadsheet summary of past grant on their [website](https://buzzardsbay.org/our-program/funding/past-municipal-snep-grants-award/) with naming `BuzzardsBayNEP_grants_2000-2023.xlsx`. \n",
    "\n",
    "This file can be downloaded manually, or automated processes like RPA can be used. Assuming future files follow a similar naming convention, the URL format for downloading updates could be `https://buzzardsbay.org/download/BuzzardsBayNEP_grants_2000-lastest avaiable year.xlsx` format."
   ]
  },
  {
   "cell_type": "code",
   "execution_count": null,
   "metadata": {},
   "outputs": [],
   "source": [
    "# URL of the XLSX file\n",
    "xlsx_url = \"https://buzzardsbay.org/download/BuzzardsBayNEP_grants_2000-2023.xlsx\"\n",
    "\n",
    "# Custom headers (including a User-Agent to mimic a browser)\n",
    "headers = {\n",
    "    'User-Agent': 'Mozilla/5.0 (Windows NT 10.0; Win64; x64) AppleWebKit/537.36 (KHTML, like Gecko) Chrome/58.0.3029.110 Safari/537.3'\n",
    "}\n",
    "\n",
    "# Send a GET request to the URL with custom headers\n",
    "response = requests.get(xlsx_url, headers=headers)\n",
    "filename = os.path.basename(xlsx_url)\n",
    "\n",
    "if response.status_code == 200:\n",
    "    # Save the content to a file\n",
    "    with open(filename, 'wb') as file:\n",
    "        file.write(response.content)\n",
    "    print(f\"{filename} downloaded successfully.\")\n",
    "else:\n",
    "    print(f\"Failed to download file. Status code: {response.status_code}\")"
   ]
  },
  {
   "cell_type": "code",
   "execution_count": null,
   "metadata": {},
   "outputs": [],
   "source": [
    "buzzards_bay_df = pd.read_excel(filename)\n",
    "buzzards_bay_df.head(5)"
   ]
  },
  {
   "cell_type": "code",
   "execution_count": 2,
   "metadata": {},
   "outputs": [],
   "source": [
    "## RPA"
   ]
  },
  {
   "cell_type": "markdown",
   "metadata": {},
   "source": [
    "## RPA"
   ]
  },
  {
   "cell_type": "markdown",
   "metadata": {},
   "source": [
    "We will cover this chapter for Coastal Zone Management Grants only since it is the only one with avaiable dataset for export. However, this method has huge potential as **Massachusetts' Gap Energy Grant** and **Water Resources Financial Grants** both have well-established map dataviusalization but very limited information elsewhere."
   ]
  },
  {
   "cell_type": "markdown",
   "metadata": {},
   "source": [
    "### Coastal Zone Management Grant"
   ]
  },
  {
   "cell_type": "markdown",
   "metadata": {},
   "source": [
    "Coast Grant, Coastal Habitat, and Coast Resilence"
   ]
  },
  {
   "cell_type": "markdown",
   "metadata": {},
   "source": [
    "The Massachusetts Office of Coastal Zone Management publishes grant information for the following programs on their interactive map, accessible via their website: [Grant Viewer](https://experience.arcgis.com/experience/68dc9fd4438544b1a39b48868c6f8f0c/page/Grant-Viewer/):\n",
    "- Coastal Habitat\n",
    "- Coastal Water Quality\n",
    "- Coastal Pollutant Remediation\n",
    "\n",
    "We can use Robotic Process Automation (RPA) to programmatically download this preprepared data and export it directly in formats like CSV, JSON, or GeoJSON. The rpa library enables us to automate browser actions, allowing us to interact with the website as if manually navigating it.\n",
    "\n",
    " The code below is designed to extract data from the [\"Grant Viewer\"](https://experience.arcgis.com/experience/68dc9fd4438544b1a39b48868c6f8f0c/page/Grant-Viewer/) website. The script automatically performs actions to:\n",
    "\n",
    "- Open the website\n",
    "- Navigate through its data table interface\n",
    "- Export the table data directly as a CSV file\n",
    "\n",
    "Though specific steps may vary across websites, the overall logic is similar and can be adapted for other sites. This approach allows us to gather data quickly and efficiently, making it ideal for repetitive tasks or large-scale data collection."
   ]
  },
  {
   "cell_type": "code",
   "execution_count": 1,
   "metadata": {},
   "outputs": [
    {
     "ename": "",
     "evalue": "",
     "output_type": "error",
     "traceback": [
      "\u001b[1;31mCannot execute code, session has been disposed. Please try restarting the Kernel."
     ]
    },
    {
     "ename": "",
     "evalue": "",
     "output_type": "error",
     "traceback": [
      "\u001b[1;31mCannot execute code, session has been disposed. Please try restarting the Kernel. \n",
      "\u001b[1;31mView Jupyter <a href='command:jupyter.viewOutput'>log</a> for further details."
     ]
    }
   ],
   "source": [
    "# Define the URL of the target webpage, specifically the \"Grant Viewer\" page on ArcGIS Experience\n",
    "czm_url = 'https://experience.arcgis.com/experience/68dc9fd4438544b1a39b48868c6f8f0c/page/Grant-Viewer/'\n",
    "\n",
    "# Import the RPA (Robotic Process Automation) library for automating browser actions\n",
    "import rpa as r \n",
    "\n",
    "# Initialize RPA with Chrome as the chosen browser\n",
    "r.init(chrome_browser=True)\n",
    "\n",
    "# Open the specified URL in the Chrome browser\n",
    "r.url(czm_url)\n",
    "\n",
    "# (Optional) Click on an 'OK' button if needed for any pop-up dialog or alert\n",
    "# r.click('OK')\n",
    "\n",
    "# Wait for 1 second to allow the page to load before proceeding\n",
    "r.wait(1)\n",
    "\n",
    "# Click the 'View Table' button to display the data table on the webpage\n",
    "r.click('View Table')\n",
    "\n",
    "# Wait for 1 second to ensure the table is fully loaded\n",
    "r.wait(1)\n",
    "\n",
    "# Click the 'Actions' button to reveal additional options for the data\n",
    "r.click('Actions')\n",
    "\n",
    "# Wait for 1 second to let the actions menu appear\n",
    "r.wait(1)\n",
    "\n",
    "# Click the 'Export' option to initiate the export process\n",
    "r.click('Export')\n",
    "\n",
    "# Wait for 1 second to ensure the export options are fully loaded\n",
    "r.wait(1)\n",
    "\n",
    "# Click on 'Export to CSV' to download the table data as a CSV file\n",
    "r.click('Export to CSV')\n",
    "\n",
    "# Wait 15 seconds to allow sufficient time for the file download to complete\n",
    "r.wait(15)\n",
    "\n",
    "# Close the RPA session and the browser\n",
    "r.close()\n"
   ]
  },
  {
   "cell_type": "code",
   "execution_count": null,
   "metadata": {},
   "outputs": [],
   "source": [
    "### Read the CZM grant csv file\n",
    "import os\n",
    "import pandas as pd\n",
    "cd = os.getcwd()\n",
    "\n",
    "files_in_directory = os.listdir(cd)\n",
    "# Filter CSV files to include only those with 'CZM' in the file name\n",
    "czm_csv_files = [file for file in files_in_directory if 'CZM' in file and file.endswith('.csv')]\n",
    "\n",
    "if czm_csv_files:\n",
    "    czm_df = pd.read_csv(czm_csv_files[0])\n",
    "else:\n",
    "    print(\"No CZM Grant csv file found.\")\n",
    "czm_df = pd.read_csv(czm_csv_files[0])\n",
    "czm_df\n",
    "\n",
    "# Reorder the columns\n",
    "columns_to_front = ['YEAR','TOWN', 'PROJECT TITLE', 'GRANT_AWARD','PROJECT DESCRIPTION','GRANT PROGRAM', 'GlobalID','x', 'y']\n",
    "remaining_columns = [col for col in czm_df.columns if col not in columns_to_front]\n",
    "new_column_order = columns_to_front + remaining_columns\n",
    "\n",
    "# Create a new DataFrame with the reordered columns\n",
    "czm_df_reordered = czm_df[new_column_order]\n",
    "czm_df_reordered.head(5)\n",
    "czm_df"
   ]
  },
  {
   "cell_type": "code",
   "execution_count": 11,
   "metadata": {},
   "outputs": [],
   "source": [
    "os.rename(str(czm_csv_files[0]),'CZM_Grants.csv')"
   ]
  },
  {
   "cell_type": "markdown",
   "metadata": {},
   "source": [
    "## Adobe API\n"
   ]
  },
  {
   "attachments": {
    "image.png": {
     "image/png": "[encoded data removed]"
    }
   },
   "cell_type": "markdown",
   "metadata": {},
   "source": [
    "In some cases, open-source packages may fail to provide usable results for PDF extraction.  The [Adobe Extract PDF API](https://developer.adobe.com/document-services/docs/overview/pdf-extract-api/) offers a reliable alternative with robust functionality for parsing complex PDF documents.\n",
    "\n",
    "Currently, the directories in this section are hardcoded. These folders were created when downloading PDF files from various websites, each using unique naming conventions for the files. Here's an example directory structure for reference:\n",
    "\n",
    "![image.png](attachment:image.png)"
   ]
  },
  {
   "cell_type": "code",
   "execution_count": 41,
   "metadata": {},
   "outputs": [],
   "source": [
    "import logging\n",
    "import os\n",
    "from datetime import datetime\n",
    "from adobe.pdfservices.operation.auth.service_principal_credentials import ServicePrincipalCredentials\n",
    "from adobe.pdfservices.operation.exception.exceptions import ServiceApiException, ServiceUsageException, SdkException\n",
    "from adobe.pdfservices.operation.io.cloud_asset import CloudAsset\n",
    "from adobe.pdfservices.operation.io.stream_asset import StreamAsset\n",
    "from adobe.pdfservices.operation.pdf_services import PDFServices\n",
    "from adobe.pdfservices.operation.pdf_services_media_type import PDFServicesMediaType\n",
    "from adobe.pdfservices.operation.pdfjobs.jobs.extract_pdf_job import ExtractPDFJob\n",
    "from adobe.pdfservices.operation.pdfjobs.params.extract_pdf.extract_element_type import ExtractElementType\n",
    "from adobe.pdfservices.operation.pdfjobs.params.extract_pdf.extract_pdf_params import ExtractPDFParams\n",
    "from adobe.pdfservices.operation.pdfjobs.result.extract_pdf_result import ExtractPDFResult\n",
    "\n",
    "# Initialize the logger\n",
    "logging.basicConfig(level=logging.INFO)\n",
    "\n",
    "class ExtractTextTableInfoFromPDF:\n",
    "    def __init__(self, directory):\n",
    "        self.directory = directory\n",
    "        self.credentials = ServicePrincipalCredentials(\n",
    "            client_id='Replace with your own client_id',   ## Replace with your own client_id\n",
    "            client_secret='Replace with your own client_secret'  ## Replace with your own client_secret\n",
    "        )\n",
    "        self.pdf_services = PDFServices(credentials=self.credentials)\n",
    "\n",
    "    def process_pdfs(self):\n",
    "        for filename in os.listdir(self.directory):\n",
    "            if filename.endswith('.pdf'):\n",
    "                file_path = os.path.join(self.directory, filename)\n",
    "                self.extract_text_table_info(file_path)\n",
    "\n",
    "    def extract_text_table_info(self, file_path):\n",
    "        try:\n",
    "            with open(file_path, 'rb') as file:\n",
    "                input_stream = file.read()\n",
    "\n",
    "            # Creates an asset(s) from source file(s) and upload\n",
    "            input_asset = self.pdf_services.upload(input_stream=input_stream, mime_type=PDFServicesMediaType.PDF)\n",
    "\n",
    "            # Create parameters for the job\n",
    "            extract_pdf_params = ExtractPDFParams(\n",
    "                elements_to_extract=[ExtractElementType.TEXT, ExtractElementType.TABLES],\n",
    "            )\n",
    "\n",
    "            # Creates a new job instance\n",
    "            extract_pdf_job = ExtractPDFJob(input_asset=input_asset, extract_pdf_params=extract_pdf_params)\n",
    "\n",
    "            # Submit the job and gets the job result\n",
    "            location = self.pdf_services.submit(extract_pdf_job)\n",
    "            pdf_services_response = self.pdf_services.get_job_result(location, ExtractPDFResult)\n",
    "\n",
    "            # Get content from the resulting asset(s)\n",
    "            result_asset: CloudAsset = pdf_services_response.get_result().get_resource()\n",
    "            stream_asset: StreamAsset = self.pdf_services.get_content(result_asset)\n",
    "\n",
    "            # Creates an output stream and copy stream asset's content to it\n",
    "            output_file_path = self.create_output_file_path(file_path)\n",
    "            with open(output_file_path, \"wb\") as file:\n",
    "                file.write(stream_asset.get_input_stream())\n",
    "\n",
    "            logging.info(f\"Processed {file_path} successfully.\")\n",
    "\n",
    "        except (ServiceApiException, ServiceUsageException, SdkException) as e:\n",
    "            logging.exception(f'Exception encountered while executing operation: {e}')\n",
    "\n",
    "    # Generates a string containing a directory structure and file name for the output file\n",
    "    @staticmethod\n",
    "    def create_output_file_path(input_file_path) -> str:\n",
    "        now = datetime.now()\n",
    "        time_stamp = now.strftime(\"%Y-%m-%dT%H-%M-%S\")\n",
    "        base_name = os.path.basename(input_file_path).replace('.pdf', '')\n",
    "        output_dir = os.path.dirname(input_file_path)\n",
    "        os.makedirs(output_dir, exist_ok=True)\n",
    "        return os.path.join(output_dir, f\"{base_name}.zip\")\n",
    "\n",
    "\n",
    "if __name__ == \"__main__\":\n",
    "    directory = os.getcwd()\n",
    "    extractor = ExtractTextTableInfoFromPDF(directory)\n",
    "    extractor.process_pdfs()"
   ]
  },
  {
   "cell_type": "markdown",
   "metadata": {},
   "source": [
    "#### Unzip and Convert `xlsx` into dataframe"
   ]
  },
  {
   "cell_type": "code",
   "execution_count": 34,
   "metadata": {},
   "outputs": [],
   "source": [
    "import zipfile\n",
    "import os\n",
    "\n",
    "def unzip_csv_files_in_directory(directory_path):\n",
    "    # Create the output folder if it doesn't exist\n",
    "    if not os.path.exists(directory_path):\n",
    "        os.makedirs(directory_path)\n",
    "    \n",
    "    # Iterate over each file in the directory\n",
    "    for filename in os.listdir(directory_path):\n",
    "        if filename.endswith('.zip'):\n",
    "            zip_file_path = os.path.join(directory_path, filename)\n",
    "            # Open the zip file\n",
    "            with zipfile.ZipFile(zip_file_path, 'r') as zip_ref:\n",
    "                # Iterate over each file in the zip file\n",
    "                for file_info in zip_ref.infolist():\n",
    "                    # Check if the file is in the 'tables' folder and is a CSV file\n",
    "                    new_diectory_path = zip_file_path.replace('.zip','')\n",
    "                    if file_info.filename.startswith('tables'):\n",
    "                        # Extract the file to the output folder\n",
    "                        zip_ref.extract(file_info, new_diectory_path)\n",
    "                        print(f\"Extracted: {file_info.filename}\")"
   ]
  },
  {
   "cell_type": "code",
   "execution_count": 35,
   "metadata": {},
   "outputs": [],
   "source": [
    "# Convert                        \n",
    "def read_csv(directory):\n",
    "    combined_df = pd.DataFrame()\n",
    "    \n",
    "    # Iterate over each file in the directory\n",
    "    for filename in os.listdir(directory):\n",
    "        folder_path = os.path.join(directory, filename)\n",
    "        if os.path.isdir(folder_path):\n",
    "            tables_path = os.path.join(folder_path, 'tables')\n",
    "            print(tables_path)\n",
    "            for file in os.listdir(tables_path):\n",
    "                if file.endswith('.xlsx'):\n",
    "                    file_path = os.path.join(tables_path, file)\n",
    "                    df = pd.read_excel(file_path)\n",
    "                    if any('_x000D_' in col for col in df.columns):\n",
    "                        df.columns = df.columns.str.replace(' _x000D_', '', regex=False) # Remove '_x000D_' from column names \n",
    "                        df = df.replace(' _x000D_', '', regex=True)\n",
    "                    # Extract the year from the file path\n",
    "                    year_match = re.search(r'\\d{4}', file_path)\n",
    "                    year = year_match.group(0) if year_match else 0\n",
    "                    df['year'] = year\n",
    "                    \n",
    "                    combined_df = pd.concat([combined_df, df], ignore_index=True)\n",
    "    return combined_df"
   ]
  },
  {
   "cell_type": "code",
   "execution_count": 36,
   "metadata": {},
   "outputs": [],
   "source": [
    "# Save merged df into csv\n",
    "def save_csv(df, output_filename, output_type='.csv'):\n",
    "    output_file_path = os.path.join(os.getcwd(), (output_filename + output_type))\n",
    "    df.to_csv(output_file_path, index=False, encoding='utf-8')\n",
    "    print(f\"DataFrame successfully saved to {output_file_path}\")"
   ]
  },
  {
   "cell_type": "markdown",
   "metadata": {},
   "source": [
    "### Sustainable Materials Recovery Program (SMRP) Municipal Grant"
   ]
  },
  {
   "cell_type": "code",
   "execution_count": null,
   "metadata": {},
   "outputs": [],
   "source": [
    "smrp_url = 'https://www.mass.gov/how-to/apply-for-a-sustainable-materials-recovery-program-smrp-municipal-grant'\n",
    "smrp_keyword = 'award'\n",
    "smrp_folder_name = 'Sustainable_materials_recovery_program_grant'\n",
    "smrp_file_format = '.pdf'\n",
    "\n",
    "download_award_files(smrp_url, smrp_keyword, smrp_folder_name, smrp_file_format)"
   ]
  },
  {
   "cell_type": "code",
   "execution_count": null,
   "metadata": {},
   "outputs": [],
   "source": [
    "extractor = ExtractTextTableInfoFromPDF(smrp_folder_name)\n",
    "extractor.process_pdfs()"
   ]
  },
  {
   "cell_type": "code",
   "execution_count": 25,
   "metadata": {},
   "outputs": [
    {
     "name": "stdout",
     "output_type": "stream",
     "text": [
      "Extracted: tables/fileoutpart1.xlsx\n",
      "Extracted: tables/fileoutpart0.xlsx\n",
      "Extracted: tables/fileoutpart3.xlsx\n",
      "Extracted: tables/fileoutpart2.xlsx\n",
      "Extracted: tables/fileoutpart1.xlsx\n",
      "Extracted: tables/fileoutpart0.xlsx\n",
      "Extracted: tables/fileoutpart3.xlsx\n",
      "Extracted: tables/fileoutpart2.xlsx\n",
      "Extracted: tables/fileoutpart1.xlsx\n",
      "Extracted: tables/fileoutpart0.xlsx\n",
      "Extracted: tables/fileoutpart3.xlsx\n",
      "Extracted: tables/fileoutpart2.xlsx\n",
      "Extracted: tables/fileoutpart1.xlsx\n",
      "Extracted: tables/fileoutpart0.xlsx\n",
      "Extracted: tables/fileoutpart3.xlsx\n",
      "Extracted: tables/fileoutpart2.xlsx\n",
      "Extracted: tables/fileoutpart1.xlsx\n",
      "Extracted: tables/fileoutpart5.xlsx\n",
      "Extracted: tables/fileoutpart4.xlsx\n",
      "Extracted: tables/fileoutpart0.xlsx\n",
      "Extracted: tables/fileoutpart3.xlsx\n",
      "Extracted: tables/fileoutpart6.xlsx\n",
      "Extracted: tables/fileoutpart2.xlsx\n",
      "Extracted: tables/fileoutpart1.xlsx\n",
      "Extracted: tables/fileoutpart4.xlsx\n",
      "Extracted: tables/fileoutpart0.xlsx\n",
      "Extracted: tables/fileoutpart3.xlsx\n",
      "Extracted: tables/fileoutpart2.xlsx\n",
      "Extracted: tables/fileoutpart1.xlsx\n",
      "Extracted: tables/fileoutpart0.xlsx\n",
      "Extracted: tables/fileoutpart2.xlsx\n",
      "Extracted: tables/fileoutpart0.xlsx\n",
      "Extracted: tables/fileoutpart1.xlsx\n",
      "Extracted: tables/fileoutpart0.xlsx\n",
      "Extracted: tables/fileoutpart3.xlsx\n",
      "Extracted: tables/fileoutpart2.xlsx\n",
      "Extracted: tables/fileoutpart1.xlsx\n",
      "Extracted: tables/fileoutpart4.xlsx\n",
      "Extracted: tables/fileoutpart0.xlsx\n",
      "Extracted: tables/fileoutpart3.xlsx\n",
      "Extracted: tables/fileoutpart2.xlsx\n",
      "Extracted: tables/fileoutpart1.xlsx\n",
      "Extracted: tables/fileoutpart0.xlsx\n",
      "Extracted: tables/fileoutpart3.xlsx\n",
      "Extracted: tables/fileoutpart2.xlsx\n",
      "Extracted: tables/fileoutpart1.xlsx\n",
      "Extracted: tables/fileoutpart4.xlsx\n",
      "Extracted: tables/fileoutpart0.xlsx\n",
      "Extracted: tables/fileoutpart3.xlsx\n",
      "Extracted: tables/fileoutpart2.xlsx\n",
      "Extracted: tables/fileoutpart1.xlsx\n",
      "Extracted: tables/fileoutpart0.xlsx\n",
      "Extracted: tables/fileoutpart1.xlsx\n",
      "Extracted: tables/fileoutpart5.xlsx\n",
      "Extracted: tables/fileoutpart4.xlsx\n",
      "Extracted: tables/fileoutpart0.xlsx\n",
      "Extracted: tables/fileoutpart3.xlsx\n",
      "Extracted: tables/fileoutpart6.xlsx\n",
      "Extracted: tables/fileoutpart2.xlsx\n",
      "Extracted: tables/fileoutpart1.xlsx\n",
      "Extracted: tables/fileoutpart0.xlsx\n",
      "Extracted: tables/fileoutpart3.xlsx\n",
      "Extracted: tables/fileoutpart2.xlsx\n",
      "Extracted: tables/fileoutpart1.xlsx\n",
      "Extracted: tables/fileoutpart5.xlsx\n",
      "Extracted: tables/fileoutpart4.xlsx\n",
      "Extracted: tables/fileoutpart0.xlsx\n",
      "Extracted: tables/fileoutpart3.xlsx\n",
      "Extracted: tables/fileoutpart6.xlsx\n",
      "Extracted: tables/fileoutpart2.xlsx\n",
      "Extracted: tables/fileoutpart1.xlsx\n",
      "Extracted: tables/fileoutpart0.xlsx\n",
      "Extracted: tables/fileoutpart2.xlsx\n",
      "Extracted: tables/fileoutpart1.xlsx\n",
      "Extracted: tables/fileoutpart5.xlsx\n",
      "Extracted: tables/fileoutpart4.xlsx\n",
      "Extracted: tables/fileoutpart0.xlsx\n",
      "Extracted: tables/fileoutpart3.xlsx\n",
      "Extracted: tables/fileoutpart6.xlsx\n",
      "Extracted: tables/fileoutpart2.xlsx\n",
      "Extracted: tables/fileoutpart1.xlsx\n",
      "Extracted: tables/fileoutpart0.xlsx\n",
      "Extracted: tables/fileoutpart1.xlsx\n",
      "Extracted: tables/fileoutpart5.xlsx\n",
      "Extracted: tables/fileoutpart4.xlsx\n",
      "Extracted: tables/fileoutpart0.xlsx\n",
      "Extracted: tables/fileoutpart3.xlsx\n",
      "Extracted: tables/fileoutpart6.xlsx\n",
      "Extracted: tables/fileoutpart2.xlsx\n",
      "Extracted: tables/fileoutpart1.xlsx\n",
      "Extracted: tables/fileoutpart4.xlsx\n",
      "Extracted: tables/fileoutpart0.xlsx\n",
      "Extracted: tables/fileoutpart3.xlsx\n",
      "Extracted: tables/fileoutpart2.xlsx\n"
     ]
    }
   ],
   "source": [
    "unzip_csv_files_in_directory(smrp_folder_name)"
   ]
  },
  {
   "cell_type": "code",
   "execution_count": 32,
   "metadata": {},
   "outputs": [
    {
     "data": {
      "text/html": [
       "<div>\n",
       "<style scoped>\n",
       "    .dataframe tbody tr th:only-of-type {\n",
       "        vertical-align: middle;\n",
       "    }\n",
       "\n",
       "    .dataframe tbody tr th {\n",
       "        vertical-align: top;\n",
       "    }\n",
       "\n",
       "    .dataframe thead th {\n",
       "        text-align: right;\n",
       "    }\n",
       "</style>\n",
       "<table border=\"1\" class=\"dataframe\">\n",
       "  <thead>\n",
       "    <tr style=\"text-align: right;\">\n",
       "      <th></th>\n",
       "      <th>0</th>\n",
       "      <th>1</th>\n",
       "      <th>2</th>\n",
       "      <th>3</th>\n",
       "    </tr>\n",
       "  </thead>\n",
       "  <tbody>\n",
       "    <tr>\n",
       "      <th>0</th>\n",
       "      <td>Grantee</td>\n",
       "      <td>Grant Description</td>\n",
       "      <td>Amount Awarded</td>\n",
       "      <td>None</td>\n",
       "    </tr>\n",
       "    <tr>\n",
       "      <th>1</th>\n",
       "      <td>Grantee</td>\n",
       "      <td>Grant Description</td>\n",
       "      <td>Amount Awarded</td>\n",
       "      <td>None</td>\n",
       "    </tr>\n",
       "    <tr>\n",
       "      <th>2</th>\n",
       "      <td>Grantee</td>\n",
       "      <td>Grant Description</td>\n",
       "      <td>Amount Awarded</td>\n",
       "      <td>None</td>\n",
       "    </tr>\n",
       "    <tr>\n",
       "      <th>3</th>\n",
       "      <td>Grantee</td>\n",
       "      <td>Grant Description</td>\n",
       "      <td>Amount Awarded</td>\n",
       "      <td>None</td>\n",
       "    </tr>\n",
       "    <tr>\n",
       "      <th>4</th>\n",
       "      <td>Grantee</td>\n",
       "      <td>Item</td>\n",
       "      <td>Amount</td>\n",
       "      <td>None</td>\n",
       "    </tr>\n",
       "    <tr>\n",
       "      <th>...</th>\n",
       "      <td>...</td>\n",
       "      <td>...</td>\n",
       "      <td>...</td>\n",
       "      <td>...</td>\n",
       "    </tr>\n",
       "    <tr>\n",
       "      <th>89</th>\n",
       "      <td>Grantee</td>\n",
       "      <td>Item</td>\n",
       "      <td>Amount</td>\n",
       "      <td>None</td>\n",
       "    </tr>\n",
       "    <tr>\n",
       "      <th>90</th>\n",
       "      <td>Grantee</td>\n",
       "      <td>Item</td>\n",
       "      <td>Amount</td>\n",
       "      <td>None</td>\n",
       "    </tr>\n",
       "    <tr>\n",
       "      <th>91</th>\n",
       "      <td>Grantee</td>\n",
       "      <td>Item</td>\n",
       "      <td>Amount</td>\n",
       "      <td>None</td>\n",
       "    </tr>\n",
       "    <tr>\n",
       "      <th>92</th>\n",
       "      <td>Grantee</td>\n",
       "      <td>Item</td>\n",
       "      <td>Amount</td>\n",
       "      <td>None</td>\n",
       "    </tr>\n",
       "    <tr>\n",
       "      <th>93</th>\n",
       "      <td>Grantee</td>\n",
       "      <td>Item</td>\n",
       "      <td>Amount</td>\n",
       "      <td>None</td>\n",
       "    </tr>\n",
       "  </tbody>\n",
       "</table>\n",
       "<p>94 rows × 4 columns</p>\n",
       "</div>"
      ],
      "text/plain": [
       "           0                   1                2     3\n",
       "0   Grantee   Grant Description   Amount Awarded   None\n",
       "1   Grantee   Grant Description   Amount Awarded   None\n",
       "2   Grantee   Grant Description   Amount Awarded   None\n",
       "3   Grantee   Grant Description   Amount Awarded   None\n",
       "4   Grantee                Item           Amount   None\n",
       "..       ...                 ...              ...   ...\n",
       "89  Grantee                Item           Amount   None\n",
       "90  Grantee                Item           Amount   None\n",
       "91  Grantee                Item           Amount   None\n",
       "92  Grantee                Item           Amount   None\n",
       "93  Grantee                Item           Amount   None\n",
       "\n",
       "[94 rows x 4 columns]"
      ]
     },
     "execution_count": 32,
     "metadata": {},
     "output_type": "execute_result"
    }
   ],
   "source": [
    "import os\n",
    "import pandas as pd\n",
    "import re\n",
    "\n",
    "def read_and_combine_xlsx(directory):\n",
    "    combined_df = pd.DataFrame()\n",
    "    headers_list = []\n",
    "    output_path =  []\n",
    "    file_name = ''\n",
    "\n",
    "    # Iterate over each file in the directory\n",
    "    for folder in os.listdir(directory):\n",
    "        folder_path = os.path.join(directory, folder)\n",
    "        i = 0\n",
    "        if os.path.isdir(folder_path):\n",
    "            tables_path = os.path.join(folder_path, 'tables')\n",
    "            if os.path.exists(tables_path):\n",
    "                for file in os.listdir(tables_path):\n",
    "                    if file.endswith('.xlsx'):\n",
    "                        file_path = os.path.join(tables_path, file)                    \n",
    "                        df = pd.read_excel(file_path)\n",
    "\n",
    "                        # Remove '_x000D_' from column names and data\n",
    "                        df.columns = df.columns.str.replace('_x000D_', '', regex=False)\n",
    "                        df = df.replace('_x000D_', '', regex=True)\n",
    "                        headers_list.append(df.columns.to_list())\n",
    "                        # Extract the year from the file path\n",
    "                        year_match = re.search(r'\\d{4}', file_path)\n",
    "                        year = year_match.group(0) if year_match else 0\n",
    "                        df['year'] = year\n",
    "                        \n",
    "                        # Concatenate the data\n",
    "                        combined_df = pd.concat([combined_df, df], ignore_index=True)\n",
    "                        file_name = f\"{year}_{i}.csv\"\n",
    "                        output_path = os.path.join(directory, file_name)\n",
    "                        if os.path.exists(output_path):\n",
    "                            i += 1\n",
    "            combined_df.to_csv(output_path, index=False)\n",
    "    \n",
    "    # Create a DataFrame from the collected headers\n",
    "    headers_df = pd.DataFrame(headers_list)\n",
    "    \n",
    "    return combined_df, headers_df\n",
    "\n",
    "# Example usage\n",
    "smrp_folder_name = 'Sustainable_materials_recovery_program_grant'\n",
    "combined_df, headers_df = read_and_combine_xlsx(smrp_folder_name)\n",
    "\n",
    "# Display the first few rows of combined data and headers\n",
    "headers_df\n"
   ]
  },
  {
   "cell_type": "code",
   "execution_count": null,
   "metadata": {},
   "outputs": [],
   "source": [
    "df_smrp = read_csv(smrp_folder_name)\n",
    "df_smrp.head(5)"
   ]
  },
  {
   "cell_type": "code",
   "execution_count": 20,
   "metadata": {},
   "outputs": [
    {
     "name": "stdout",
     "output_type": "stream",
     "text": [
      "DataFrame successfully saved to c:\\Users\\ZHOUZ\\Desktop\\Document\\aTufts\\24 Fall\\DATA 297 RA\\Sustainable_materials_recovery_program_grant.csv\n"
     ]
    }
   ],
   "source": [
    "save_csv(df_smrp, 'Sustainable_materials_recovery_program_grant')"
   ]
  },
  {
   "cell_type": "markdown",
   "metadata": {},
   "source": [
    "### MassDEP Reduce, Reuse, Repair Micro-Grant"
   ]
  },
  {
   "cell_type": "code",
   "execution_count": 7,
   "metadata": {},
   "outputs": [],
   "source": [
    "rrr_url = 'https://www.mass.gov/how-to/massdep-reduce-reuse-repair-micro-grant'\n",
    "rrr_keyword = 'awards'\n",
    "rrr_folder_name = 'reduce_reuse_repair_micro_grant'\n",
    "rrr_file_format = '.pdf'\n",
    "\n",
    "download_award_files(rrr_url, rrr_keyword, rrr_folder_name, rrr_file_format)"
   ]
  },
  {
   "cell_type": "code",
   "execution_count": null,
   "metadata": {},
   "outputs": [],
   "source": [
    "extractor = ExtractTextTableInfoFromPDF(rrr_folder_name)\n",
    "extractor.process_pdfs()"
   ]
  },
  {
   "cell_type": "code",
   "execution_count": 15,
   "metadata": {},
   "outputs": [
    {
     "name": "stdout",
     "output_type": "stream",
     "text": [
      "Extracted: tables/fileoutpart0.xlsx\n"
     ]
    }
   ],
   "source": [
    "unzip_csv_files_in_directory(rrr_folder_name)"
   ]
  },
  {
   "cell_type": "code",
   "execution_count": 21,
   "metadata": {},
   "outputs": [
    {
     "name": "stdout",
     "output_type": "stream",
     "text": [
      "reduce_reuse_repair_micro_grant\\micro-grant-awards-since-2019_extract_2024-10-17T14-37-50\\tables\n"
     ]
    },
    {
     "data": {
      "text/html": [
       "<div>\n",
       "<style scoped>\n",
       "    .dataframe tbody tr th:only-of-type {\n",
       "        vertical-align: middle;\n",
       "    }\n",
       "\n",
       "    .dataframe tbody tr th {\n",
       "        vertical-align: top;\n",
       "    }\n",
       "\n",
       "    .dataframe thead th {\n",
       "        text-align: right;\n",
       "    }\n",
       "</style>\n",
       "<table border=\"1\" class=\"dataframe\">\n",
       "  <thead>\n",
       "    <tr style=\"text-align: right;\">\n",
       "      <th></th>\n",
       "      <th>Fiscal Year</th>\n",
       "      <th>Grantee</th>\n",
       "      <th>Project Title</th>\n",
       "      <th>Location</th>\n",
       "      <th>Award Amount</th>\n",
       "      <th>year</th>\n",
       "    </tr>\n",
       "  </thead>\n",
       "  <tbody>\n",
       "    <tr>\n",
       "      <th>0</th>\n",
       "      <td>2019</td>\n",
       "      <td>Fresh Start Furniture Bank</td>\n",
       "      <td>Bulk Furniture Loading Dock</td>\n",
       "      <td>Hudson</td>\n",
       "      <td>$ 3,150.00</td>\n",
       "      <td>2019</td>\n",
       "    </tr>\n",
       "    <tr>\n",
       "      <th>1</th>\n",
       "      <td>2019</td>\n",
       "      <td>Roots &amp; Dreams and Mustard Seed, Inc</td>\n",
       "      <td>The BagShare Pittsfield Chapter/Roots &amp; Dreams</td>\n",
       "      <td>Pittsfield</td>\n",
       "      <td>$ 5,000.00</td>\n",
       "      <td>2019</td>\n",
       "    </tr>\n",
       "    <tr>\n",
       "      <th>2</th>\n",
       "      <td>2019</td>\n",
       "      <td>More Than Words</td>\n",
       "      <td>More Than Words Used Textile Collection</td>\n",
       "      <td>Waltham</td>\n",
       "      <td>$ 5,000.00</td>\n",
       "      <td>2019</td>\n",
       "    </tr>\n",
       "    <tr>\n",
       "      <th>3</th>\n",
       "      <td>2019</td>\n",
       "      <td>Berkshire Environmental Action Team, LLC.</td>\n",
       "      <td>Berkshire Zero-Waste Initiative</td>\n",
       "      <td>Pittsfield</td>\n",
       "      <td>$ 5,000.00</td>\n",
       "      <td>2019</td>\n",
       "    </tr>\n",
       "    <tr>\n",
       "      <th>4</th>\n",
       "      <td>2019</td>\n",
       "      <td>Town of Rowe</td>\n",
       "      <td>Rowe Town Library - Library of Things</td>\n",
       "      <td>Rowe</td>\n",
       "      <td>$ 2,500.00</td>\n",
       "      <td>2019</td>\n",
       "    </tr>\n",
       "  </tbody>\n",
       "</table>\n",
       "</div>"
      ],
      "text/plain": [
       "  Fiscal Year                                    Grantee  \\\n",
       "0        2019                 Fresh Start Furniture Bank   \n",
       "1        2019       Roots & Dreams and Mustard Seed, Inc   \n",
       "2        2019                            More Than Words   \n",
       "3        2019  Berkshire Environmental Action Team, LLC.   \n",
       "4        2019                               Town of Rowe   \n",
       "\n",
       "                                    Project Title    Location Award Amount  \\\n",
       "0                     Bulk Furniture Loading Dock      Hudson   $ 3,150.00   \n",
       "1  The BagShare Pittsfield Chapter/Roots & Dreams  Pittsfield   $ 5,000.00   \n",
       "2         More Than Words Used Textile Collection     Waltham   $ 5,000.00   \n",
       "3                 Berkshire Zero-Waste Initiative  Pittsfield   $ 5,000.00   \n",
       "4           Rowe Town Library - Library of Things        Rowe   $ 2,500.00   \n",
       "\n",
       "   year  \n",
       "0  2019  \n",
       "1  2019  \n",
       "2  2019  \n",
       "3  2019  \n",
       "4  2019  "
      ]
     },
     "execution_count": 21,
     "metadata": {},
     "output_type": "execute_result"
    }
   ],
   "source": [
    "df_rrr = read_csv(rrr_folder_name)\n",
    "df_rrr['Fiscal Year'] = df_rrr['Fiscal Year'].str.replace('FY', '20')\n",
    "df_rrr.head(5)"
   ]
  },
  {
   "cell_type": "code",
   "execution_count": 22,
   "metadata": {},
   "outputs": [
    {
     "name": "stdout",
     "output_type": "stream",
     "text": [
      "DataFrame successfully saved to c:\\Users\\ZHOUZ\\Desktop\\Document\\aTufts\\24 Fall\\DATA 297 RA\\reduce_reuse_repair_micro_grant.csv\n"
     ]
    }
   ],
   "source": [
    "save_csv(df_rrr, rrr_folder_name)"
   ]
  },
  {
   "cell_type": "markdown",
   "metadata": {},
   "source": [
    "### Recycling & Reuse Business Development Grant"
   ]
  },
  {
   "cell_type": "code",
   "execution_count": null,
   "metadata": {},
   "outputs": [],
   "source": [
    "rrbd_url = 'https://www.mass.gov/how-to/apply-for-a-recycling-reuse-business-development-grant'\n",
    "rrbd_keyword = 'award'\n",
    "rrbd_folder_name = 'recycling-resue_business_development_grant'\n",
    "rrbd_file_format = '.pdf'\n",
    "\n",
    "download_award_files(rrbd_url, rrbd_keyword, rrbd_folder_name, rrbd_file_format)"
   ]
  },
  {
   "cell_type": "code",
   "execution_count": null,
   "metadata": {},
   "outputs": [],
   "source": [
    "extractor = ExtractTextTableInfoFromPDF(rrbd_folder_name)\n",
    "extractor.process_pdfs()"
   ]
  },
  {
   "cell_type": "code",
   "execution_count": 10,
   "metadata": {},
   "outputs": [
    {
     "ename": "NameError",
     "evalue": "name 'rrbd_folder_name' is not defined",
     "output_type": "error",
     "traceback": [
      "\u001b[1;31m---------------------------------------------------------------------------\u001b[0m",
      "\u001b[1;31mNameError\u001b[0m                                 Traceback (most recent call last)",
      "Cell \u001b[1;32mIn[10], line 1\u001b[0m\n\u001b[1;32m----> 1\u001b[0m unzip_csv_files_in_directory(rrbd_folder_name)\n\u001b[0;32m      2\u001b[0m df_rrbd \u001b[38;5;241m=\u001b[39m read_csv(rrbd_folder_name)\n\u001b[0;32m      3\u001b[0m df_rrbd\u001b[38;5;241m.\u001b[39mhead(\u001b[38;5;241m5\u001b[39m)\n",
      "\u001b[1;31mNameError\u001b[0m: name 'rrbd_folder_name' is not defined"
     ]
    }
   ],
   "source": [
    "unzip_csv_files_in_directory(rrbd_folder_name)\n",
    "df_rrbd = read_csv(rrbd_folder_name)\n",
    "df_rrbd.head(5)\n",
    "df_rrbd.rename(columns={df_rrbd.columns[1]: 'Location'}, inplace=True)"
   ]
  },
  {
   "cell_type": "code",
   "execution_count": null,
   "metadata": {},
   "outputs": [],
   "source": [
    "save_csv(df_rrbd, rrbd_folder_name)"
   ]
  },
  {
   "cell_type": "markdown",
   "metadata": {},
   "source": [
    "## Mannual Input (Temp Solution)"
   ]
  },
  {
   "cell_type": "markdown",
   "metadata": {},
   "source": [
    "Grants data in this section are entered mannual due to not many of them. It could be use "
   ]
  },
  {
   "cell_type": "markdown",
   "metadata": {},
   "source": [
    "### MassDEP Commercial Refrigeration Grant"
   ]
  },
  {
   "cell_type": "markdown",
   "metadata": {},
   "source": [
    "Because the commerical refrigeration grant only has 1 year of data with 4 grants published as press release. We will mannual input here for now."
   ]
  },
  {
   "cell_type": "code",
   "execution_count": null,
   "metadata": {},
   "outputs": [],
   "source": [
    "data = [\n",
    "    {\n",
    "        \"Project Name\": \"Fruit Life, Inc.\",\n",
    "        \"Town Name\": \"Chicopee\",\n",
    "        \"Amount\": 200000,\n",
    "        \"Description\": \"for a new CO2 system at an existing store\"\n",
    "    },\n",
    "    {\n",
    "        \"Project Name\": \"Souper Sweet Sandwich Shop, Inc.\",\n",
    "        \"Town Name\": \"Springfield\",\n",
    "        \"Amount\": 18179,\n",
    "        \"Description\": \"for a propane retrofit and system expansion at an existing store\"\n",
    "    },\n",
    "    {\n",
    "        \"Project Name\": \"The Food Bank of Western Massachusetts\",\n",
    "        \"Town Name\": \"Hadley\",\n",
    "        \"Amount\": 50000,\n",
    "        \"Description\": \"to switch to a CO2 system\"\n",
    "    },\n",
    "    {\n",
    "        \"Project Name\": \"Big Y Foods, Inc.\",\n",
    "        \"Town Name\": \"Northampton, Palmer, Springfield (2), Wilbraham\",\n",
    "        \"Amount\": 238507,\n",
    "        \"Description\": \"for five system retrofits for lower GWP refrigerants and improved leak detection in supermarkets\"\n",
    "    },\n",
    "    {\n",
    "        \"Project Name\": \"ALDI, Inc.\",\n",
    "        \"Town Name\": \"Northampton\",\n",
    "        \"Amount\": 75000,\n",
    "        \"Description\": \"for a new CO2 system at a new store\"\n",
    "    }\n",
    "]\n",
    "\n",
    "# Creating the DataFrame\n",
    "commerical_refrige_df = pd.DataFrame(data)\n",
    "commerical_refrige_df['year'] = 2023\n",
    "commerical_refrige_df"
   ]
  },
  {
   "cell_type": "code",
   "execution_count": 8,
   "metadata": {},
   "outputs": [],
   "source": [
    "# save commerical_refrige_df as csv\n",
    "commerical_refrige_df.to_csv('commerical_refrige.csv', index=False)"
   ]
  },
  {
   "cell_type": "markdown",
   "metadata": {},
   "source": [
    "Same for forestry grants."
   ]
  },
  {
   "cell_type": "markdown",
   "metadata": {},
   "source": [
    "### Forestry Grants"
   ]
  },
  {
   "cell_type": "code",
   "execution_count": 32,
   "metadata": {},
   "outputs": [
    {
     "data": {
      "text/html": [
       "<div>\n",
       "<style scoped>\n",
       "    .dataframe tbody tr th:only-of-type {\n",
       "        vertical-align: middle;\n",
       "    }\n",
       "\n",
       "    .dataframe tbody tr th {\n",
       "        vertical-align: top;\n",
       "    }\n",
       "\n",
       "    .dataframe thead th {\n",
       "        text-align: right;\n",
       "    }\n",
       "</style>\n",
       "<table border=\"1\" class=\"dataframe\">\n",
       "  <thead>\n",
       "    <tr style=\"text-align: right;\">\n",
       "      <th></th>\n",
       "      <th>Town</th>\n",
       "      <th>Amount</th>\n",
       "      <th>Purpose</th>\n",
       "      <th>Year</th>\n",
       "    </tr>\n",
       "  </thead>\n",
       "  <tbody>\n",
       "    <tr>\n",
       "      <th>0</th>\n",
       "      <td>Sturbridge</td>\n",
       "      <td>400000</td>\n",
       "      <td>To conserve 280 acres in Sturbridge as a commu...</td>\n",
       "      <td>2014</td>\n",
       "    </tr>\n",
       "    <tr>\n",
       "      <th>1</th>\n",
       "      <td>Holland</td>\n",
       "      <td>215000</td>\n",
       "      <td>To conserve 153 acres in Holland as a communit...</td>\n",
       "      <td>2019</td>\n",
       "    </tr>\n",
       "    <tr>\n",
       "      <th>2</th>\n",
       "      <td>Pelham</td>\n",
       "      <td>375124</td>\n",
       "      <td>To conserve 185 acres in Pelham as a community...</td>\n",
       "      <td>2016</td>\n",
       "    </tr>\n",
       "  </tbody>\n",
       "</table>\n",
       "</div>"
      ],
      "text/plain": [
       "         Town  Amount                                            Purpose  Year\n",
       "0  Sturbridge  400000  To conserve 280 acres in Sturbridge as a commu...  2014\n",
       "1     Holland  215000  To conserve 153 acres in Holland as a communit...  2019\n",
       "2      Pelham  375124  To conserve 185 acres in Pelham as a community...  2016"
      ]
     },
     "execution_count": 32,
     "metadata": {},
     "output_type": "execute_result"
    }
   ],
   "source": [
    "import pandas as pd\n",
    "\n",
    "forestry_df = data = {\n",
    "    \"Town\": [\"Sturbridge\", \"Holland\", \"Pelham\"],\n",
    "    \"Amount\": [400000, 215000, 375124],\n",
    "    \"Purpose\": [\"To conserve 280 acres in Sturbridge as a community forest\", \n",
    "                \"To conserve 153 acres in Holland as a community forest\", \n",
    "                \"To conserve 185 acres in Pelham as a community forest\"],\n",
    "    \"Year\": [2014, 2019, 2016]\n",
    "}\n",
    "forestry_df = pd.DataFrame(forestry_df)\n",
    "forestry_df\n"
   ]
  },
  {
   "cell_type": "markdown",
   "metadata": {},
   "source": [
    "## Text / HTML"
   ]
  },
  {
   "cell_type": "markdown",
   "metadata": {},
   "source": [
    "### [Water Management Act Grant Programs for Public Water Suppliers](https://www.mass.gov/info-details/water-management-act-grant-programs-for-public-water-suppliers)"
   ]
  },
  {
   "cell_type": "markdown",
   "metadata": {},
   "source": [
    "Due to the inconsistent format of these pdf files, even the Adobe API will struggle to generate a output constantly. Thus, we suggestd to leverage the power of LLM such as **ChatGPT** that doesn't require the user to define a set of rules for extracting the information. Due to resources constraint, we were not able to experiment with ChatGPT API to establish a full pipleline in the notebook, and had to rely on mannually upload downloaded pdfs to the free ChatGPT web interface."
   ]
  },
  {
   "cell_type": "code",
   "execution_count": null,
   "metadata": {},
   "outputs": [
    {
     "name": "stdout",
     "output_type": "stream",
     "text": [
      "Downloaded: swmi-grant-report-summaries-for-2022-2023.pdf\n",
      "Downloaded: swmi-grant-report-summaries-for-2021-2022.pdf\n",
      "Downloaded: swmi-grant-report-summaries-for-2020-2021.pdf\n",
      "Downloaded: swmi-grant-report-summaries-for-2019-2020.pdf\n",
      "Downloaded: swmi-grant-report-summaries-for-2018-2019.pdf\n",
      "Downloaded: swmi-grant-report-summaries-for-2017-2018.pdf\n",
      "Downloaded: swmi-grant-report-summaries-for-2016-2017.pdf\n",
      "Downloaded: swmi-grant-report-summaries-for-2014-2015.pdf\n",
      "Downloaded: swmi-grant-report-summaries-for-2013-2014.pdf\n",
      "Downloaded: swmi-grant-report-summaries-for-2012-2013.pdf\n"
     ]
    }
   ],
   "source": [
    "wmag_url = 'https://www.mass.gov/info-details/water-management-act-grant-programs-for-public-water-suppliers'\n",
    "wmag_keyword = 'SWMI Grant'\n",
    "wmag_folder_name = 'Water_Management_Act_Grant'\n",
    "wmag_file_format = '.pdf'\n",
    "\n",
    "download_award_files(wmag_url, wmag_keyword, wmag_folder_name, wmag_file_format)"
   ]
  },
  {
   "cell_type": "markdown",
   "metadata": {},
   "source": [
    "### [Turi Grants](https://www.turi.org/grants/)"
   ]
  },
  {
   "cell_type": "markdown",
   "metadata": {},
   "source": [
    "We can obtain the HTML from the **TURI Grant** website and use human-defined phrasing rules to separate the content into `project`, `town name`, `description`, `amount`, and `year` columns. But I opted for the same ChatGPT approach here since it can perform the cleanning process and Name Entity Recongition to extract the location at the same time.\n",
    "\n",
    "Please note that the TURI grant only publishes the total funds awarded to multiple awardees within a single year, so it is not possible to determine the specific grant amount for each project. One approach is to assume the grant is equally distributed among grantees each year; while this may not be precise, it ensures the total grant amount is not duplicated. We will add a sentence in the description to clarify this approach."
   ]
  },
  {
   "cell_type": "code",
   "execution_count": null,
   "metadata": {},
   "outputs": [],
   "source": [
    "from selenium import webdriver\n",
    "\n",
    "# Set up Selenium with ChromeDriver\n",
    "chrome_options = webdriver.ChromeOptions()\n",
    "chrome_options.add_argument('--headless')  # Run in headless mode\n",
    "\n",
    "# Start the WebDriver\n",
    "driver = webdriver.Chrome(options=chrome_options)\n",
    "\n",
    "# Open the target URL and get page source\n",
    "turi_url = 'https://www.turi.org/grants/'\n",
    "driver.get(turi_url)\n",
    "turi_html = driver.page_source\n",
    "print(driver.page_source)\n",
    "\n",
    "# Close the driver\n",
    "driver.quit()"
   ]
  }
 ],
 "metadata": {
  "kernelspec": {
   "display_name": "base",
   "language": "python",
   "name": "python3"
  },
  "language_info": {
   "codemirror_mode": {
    "name": "ipython",
    "version": 3
   },
   "file_extension": ".py",
   "mimetype": "text/x-python",
   "name": "python",
   "nbconvert_exporter": "python",
   "pygments_lexer": "ipython3",
   "version": "3.11.5"
  }
 },
 "nbformat": 4,
 "nbformat_minor": 2
}
